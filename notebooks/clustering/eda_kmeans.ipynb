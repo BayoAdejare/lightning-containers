{
 "cells": [
  {
   "attachments": {},
   "cell_type": "markdown",
   "id": "5cb0c4ee",
   "metadata": {},
   "source": [
    "# Lightning Flash Dataset: EDA with K-Means Clustering"
   ]
  },
  {
   "attachments": {},
   "cell_type": "markdown",
   "id": "574d24d6",
   "metadata": {},
   "source": [
    "## Import Libraries"
   ]
  },
  {
   "cell_type": "code",
   "execution_count": null,
   "id": "983afdf8",
   "metadata": {},
   "outputs": [],
   "source": [
    "import warnings\n",
    "\n",
    "import duckdb as db\n",
    "import pandas as pd\n",
    "import geopandas as gpd\n",
    "import matplotlib.pyplot as plt\n",
    "import seaborn as sns; sns.set() # plot styling\n",
    "\n",
    "# from sklearn.preprocessing import StandardScaler\n",
    "from sklearn.cluster import KMeans\n",
    "from sklearn.metrics import silhouette_score\n",
    "\n",
    "%matplotlib inline\n",
    "warnings.filterwarnings('ignore')"
   ]
  },
  {
   "attachments": {},
   "cell_type": "markdown",
   "id": "0f5cf581",
   "metadata": {},
   "source": [
    "## Data Load"
   ]
  },
  {
   "cell_type": "code",
   "execution_count": null,
   "id": "55614f16",
   "metadata": {},
   "outputs": [],
   "source": [
    "# 2.Load dataset - db connections\n",
    "# test dataset from GOES-West noaa-goes18\n",
    "conn = db.connect(\"glmFlash.db.test\") # Path to db file\n",
    "lat_df = conn.execute(\"SELECT * FROM tbl_flash_lat;\").df() # latitude co-ordinates\n",
    "lon_df = conn.execute(\"SELECT * FROM tbl_flash_lon;\").df() # longitude co-ordinates\n",
    "print(lat_df.describe(), \"\\n\")\n",
    "print(lon_df.describe())"
   ]
  },
  {
   "attachments": {},
   "cell_type": "markdown",
   "id": "81421bae",
   "metadata": {},
   "source": [
    "## Preprocessing"
   ]
  },
  {
   "cell_type": "code",
   "execution_count": null,
   "id": "d98749ef",
   "metadata": {},
   "outputs": [],
   "source": [
    "# 3.Preprocess - Cleaning up the data\n",
    "# assuming each flash point corresponds to a lightning discharge?\n",
    "lat_df.drop(lat_df.columns[[2]],axis=1,inplace=True)  # drop file name\n",
    "lon_df.drop(lon_df.columns[[2]],axis=1,inplace=True)  # drop file name\n",
    "print(lat_df.info(), \"\\n\")\n",
    "print(lon_df.info())"
   ]
  },
  {
   "cell_type": "code",
   "execution_count": null,
   "id": "96a1d90c",
   "metadata": {},
   "outputs": [],
   "source": [
    "# remove duplicates\n",
    "lat_df.drop_duplicates(subset=['ts_date'], inplace=True)\n",
    "lon_df.drop_duplicates(subset=['ts_date'], inplace=True)\n",
    "print(lat_df.ts_date.value_counts(), \"\\n\")\n",
    "print(lon_df.ts_date.value_counts())"
   ]
  },
  {
   "cell_type": "code",
   "execution_count": null,
   "id": "46fb8a5f",
   "metadata": {},
   "outputs": [],
   "source": [
    "# join dataframes\n",
    "geo_df = lon_df.join(lat_df.set_index('ts_date'), on='ts_date')\n",
    "geo_df.size"
   ]
  },
  {
   "cell_type": "code",
   "execution_count": null,
   "id": "f355d252",
   "metadata": {},
   "outputs": [],
   "source": [
    "# add hour category\n",
    "geo_df['hour'] = geo_df['ts_date'].dt.hour\n",
    "# add day category\n",
    "geo_df['day'] = geo_df['ts_date'].dt.strftime('%m-%d-%y')\n",
    "# create initial dataset\n",
    "geo_df_sm = geo_df[(geo_df['hour'] == 00)]\n",
    "# dataset time window\n",
    "start = geo_df.ts_date.min()\n",
    "end = geo_df.ts_date.max()\n",
    "print(f\"Start: {start}; End: {end}\")\n",
    "geo_df_sm"
   ]
  },
  {
   "cell_type": "code",
   "execution_count": null,
   "id": "f3d13758",
   "metadata": {},
   "outputs": [],
   "source": [
    "# 3.Raw visualization\n",
    "plt.figure(figsize=(6, 6))\n",
    "plt.scatter(x=geo_df_sm['lon'], y=geo_df_sm['lat'])\n",
    "plt.ylabel(\"Latitude\")\n",
    "plt.xlabel(\"Longitude\")\n",
    "plt.title(\"Raw Flash Events\")"
   ]
  },
  {
   "attachments": {},
   "cell_type": "markdown",
   "id": "18592793",
   "metadata": {},
   "source": [
    "## Clustering"
   ]
  },
  {
   "cell_type": "code",
   "execution_count": null,
   "id": "f537ccfa",
   "metadata": {},
   "outputs": [],
   "source": [
    "# 4. Implement K-Means clustering algorithm\n",
    "kmeans_kwargs = {\n",
    "    \"init\": \"k-means++\",\n",
    "    \"n_init\": 10,\n",
    "    \"max_iter\": 100,\n",
    "    \"random_state\": 42,\n",
    "}\n",
    "geo_df_sm = geo_df_sm.loc[:, [\"lon\", \"lat\"]]\n",
    "kmeans = KMeans(n_clusters=k, **kmeans_kwargs)\n",
    "geo_df_sm[\"cluster\"] = kmeans.fit_predict(geo_df_sm)\n",
    "geo_df_sm[\"cluster\"] = geo_df_sm[\"cluster\"].astype(\"category\")\n",
    "geo_df_sm.head()"
   ]
  },
  {
   "cell_type": "code",
   "execution_count": null,
   "id": "963faa0f",
   "metadata": {},
   "outputs": [],
   "source": [
    "# Plot clusters\n",
    "g = sns.relplot(\n",
    "    x=\"lon\", y=\"lat\", hue=\"cluster\", data=geo_df_sm, height=6,  palette=\"tab20\", sizes=(10, 100)\n",
    ").set(title='Clustered Flash Events', xlabel=\"Longitude\", ylabel=\"Latitude\")"
   ]
  },
  {
   "attachments": {},
   "cell_type": "markdown",
   "id": "a88109c8",
   "metadata": {},
   "source": [
    "## Evaluations"
   ]
  },
  {
   "cell_type": "code",
   "execution_count": null,
   "id": "b0e7a7e0",
   "metadata": {},
   "outputs": [],
   "source": [
    "# 5a. Evaluate results, silhouette score\n",
    "kmeans_kwargs = {\n",
    "    \"init\": \"k-means++\",\n",
    "    \"n_init\": 10,\n",
    "    \"max_iter\": 100,\n",
    "    \"random_state\": 42,\n",
    "}\n",
    "geo_df_sil = geo_df_sm.loc[:, [\"lon\", \"lat\"]]\n",
    "# A list holds the silhouette coefficients for each k\n",
    "silhouette_coefficients = []\n",
    "\n",
    "# Start at 2 clusters for silhouette coefficient\n",
    "for k in range(2, 24):\n",
    "    kmeans = KMeans(n_clusters=k, **kmeans_kwargs)\n",
    "    kmeans.fit(geo_df_sil)\n",
    "    score = silhouette_score(geo_df_sil, kmeans.labels_)\n",
    "    silhouette_coefficients.append(score)"
   ]
  },
  {
   "cell_type": "code",
   "execution_count": null,
   "id": "c1f16bad",
   "metadata": {},
   "outputs": [],
   "source": [
    "plt.style.use(\"fivethirtyeight\")\n",
    "plt.plot(range(2, 24), silhouette_coefficients)\n",
    "plt.xticks(range(2, 24))\n",
    "plt.xlabel(\"Number of Clusters\")\n",
    "plt.ylabel(\"Silhouette Coefficient\")\n",
    "plt.show()"
   ]
  },
  {
   "cell_type": "code",
   "execution_count": null,
   "id": "b2890a3c",
   "metadata": {},
   "outputs": [],
   "source": [
    "# 5b. Evaluate results, elbow method\n",
    "kmeans_kwargs = {\n",
    "    \"init\": \"k-means++\",\n",
    "    \"n_init\": 10,\n",
    "    \"max_iter\": 100,\n",
    "    \"random_state\": 42,\n",
    "}\n",
    "\n",
    "# holds the sum of the squared distances for each k\n",
    "ssd = []\n",
    "\n",
    "# Return ssd for each k\n",
    "for k in range(1, 24):\n",
    "    kmeans = KMeans(n_clusters=k, **kmeans_kwargs)\n",
    "    kmeans.fit(geo_df_sm)\n",
    "    ssd.append(kmeans.inertia_)"
   ]
  },
  {
   "cell_type": "code",
   "execution_count": null,
   "id": "25fbc5a7",
   "metadata": {},
   "outputs": [],
   "source": [
    "plt.style.use(\"fivethirtyeight\")\n",
    "plt.plot(range(1, 24), ssd)\n",
    "plt.xticks(range(1, 24))\n",
    "plt.xlabel(\"Number of Clusters\")\n",
    "plt.ylabel(\"Sum of Squared Distances\")\n",
    "plt.show()"
   ]
  },
  {
   "attachments": {},
   "cell_type": "markdown",
   "id": "373cfff5",
   "metadata": {},
   "source": [
    "## Plotting"
   ]
  },
  {
   "cell_type": "code",
   "execution_count": null,
   "id": "7e621d14",
   "metadata": {},
   "outputs": [],
   "source": [
    "# 6. Overlay cluster on \"world\" map\n",
    "# load US regions shape file\n",
    "world = gpd.read_file(gpd.datasets.get_path('naturalearth_lowres'))\n",
    "print(world.crs)"
   ]
  },
  {
   "cell_type": "code",
   "execution_count": null,
   "id": "c609eb24",
   "metadata": {},
   "outputs": [],
   "source": [
    "# Convert DataFrame to GeoDataFrame\n",
    "geo = gpd.GeoDataFrame(geo_df_sm, geometry=gpd.points_from_xy(geo_df_sm.lon, geo_df_sm.lat))\n",
    "\n",
    "# coodinate reference system (CRS) to EPSG 4326\n",
    "geo.crs = {'init': 'epsg:4326'}\n",
    "geo.head()"
   ]
  },
  {
   "cell_type": "code",
   "execution_count": null,
   "id": "5766402b",
   "metadata": {},
   "outputs": [],
   "source": [
    "# plot map\n",
    "fig, ax = plt.subplots(figsize=(10,10))\n",
    "ax.set_aspect('equal')\n",
    "world.plot(ax=ax, alpha=0.4, color='whitesmoke', linestyle=':', edgecolor='black', zorder=1)\n",
    "geo.plot(ax=ax, column=\"cluster\", alpha=0.7, cmap='viridis', linewidth=0.1, zorder=2)\n",
    "plt.title(f\"Lightning Clusters: approx. {start.date()} Hour: 00\") # i.e. Start: 2023-04-19 23:59:59.601740; End: 2023-04-20 12:59:58.608381\n",
    "plt.xlabel(\"longitude\")\n",
    "plt.ylabel(\"latitude\")\n",
    "plt.show()"
   ]
  },
  {
   "cell_type": "code",
   "execution_count": null,
   "id": "618067a4",
   "metadata": {},
   "outputs": [],
   "source": [
    "# 7. Create simple time lapse\n",
    "num_clusters = 7\n",
    "kmeans_kwargs = {\n",
    "    \"init\": \"k-means++\",\n",
    "    \"n_init\": 10,\n",
    "    \"max_iter\": 100,\n",
    "    \"random_state\": 42,\n",
    "}\n",
    "DayList = geo_df['day'].drop_duplicates().to_list()\n",
    "hourList = geo_df['hour'].drop_duplicates().to_list()\n",
    "DayList.sort()\n",
    "hourList.sort()\n",
    "for j in DayList:\n",
    "    for i in hourList:\n",
    "        k = num_clusters\n",
    "        geo_df_n = geo_df[(geo_df['hour'] == i)]\n",
    "        geo_df_n = geo_df_n.loc[:, [\"lon\", \"lat\"]]\n",
    "        num_samples = geo_df_n.shape[0]\n",
    "\n",
    "        if num_clusters >= num_samples:\n",
    "            k = num_samples\n",
    "        else:\n",
    "            pass\n",
    "\n",
    "        print(f\"Generating clusters for {j} on hour: {i}; k={num_clusters}...\")\n",
    "\n",
    "        kmeans = KMeans(n_clusters=k, **kmeans_kwargs)\n",
    "        geo_df_n[\"cluster\"] = kmeans.fit_predict(geo_df_n)\n",
    "        geo_df_n[\"cluster\"] = geo_df_n[\"cluster\"].astype(\"category\")\n",
    "                    \n",
    "        # Convert DataFrame to GeoDataFrame\n",
    "        geo = gpd.GeoDataFrame(geo_df_n, geometry=gpd.points_from_xy(geo_df_n.lon, geo_df_n.lat))\n",
    "\n",
    "        # coodinate reference system (CRS) to EPSG 4326\n",
    "        geo.crs = {'init': 'epsg:4326'}\n",
    "\n",
    "        # plot map\n",
    "        fig, ax = plt.subplots(figsize=(10,10))\n",
    "        ax.set_aspect('equal')\n",
    "        world.plot(ax=ax, alpha=0.4, color='whitesmoke', linestyle=':', edgecolor='black', zorder=1)\n",
    "        geo.plot(ax=ax, column=\"cluster\", alpha=0.7, cmap='viridis', linewidth=0.1, zorder=2)\n",
    "        plt.title(f\"Lightning Clusters on {j} Hour: {i}; k={k}\")\n",
    "        plt.xlabel(\"longitude\")\n",
    "        plt.ylabel(\"latitude\")\n",
    "        # plt.show()\n",
    "        filename = f\"maps/lightning_clusters_{j}_{i}.png\"\n",
    "        fig.savefig(f\"{filename}\", bbox_inches=\"tight\", dpi=600)"
   ]
  },
  {
   "cell_type": "code",
   "execution_count": null,
   "id": "0dae3f23",
   "metadata": {},
   "outputs": [],
   "source": [
    "# Combine images to gif\n",
    "import glob\n",
    "from PIL import Image\n",
    "from IPython.display import HTML\n",
    "\n",
    "filePath = f\"maps/sample_lightning_clusters.gif\"\n",
    "\n",
    "def png_to_gif(images_path, file_path, duration=500):\n",
    "    frames = []\n",
    "    images = glob.glob(images_path)\n",
    "\n",
    "    for i in sorted(images):\n",
    "        im = Image.open(i)\n",
    "        im = im.resize((1200,800), Image.Resampling.LANCZOS)\n",
    "        frames.append(im.copy())\n",
    "\n",
    "    frames[0].save(f\"{file_path}\", format=\"GIF\", append_images=frames[1:], save_all=True, duration=duration, loop=0, quality=100, optimize=True)\n",
    "\n",
    "png_to_gif(images_path=\"maps/*.png\", file_path=filePath, duration=500)\n",
    "\n"
   ]
  },
  {
   "cell_type": "code",
   "execution_count": null,
   "id": "19fb6d01",
   "metadata": {},
   "outputs": [],
   "source": [
    "HTML(f'<img src=\"{filePath}\", width=\"800\", align=\"center\">')"
   ]
  }
 ],
 "metadata": {
  "kernelspec": {
   "display_name": "Python 3 (ipykernel)",
   "language": "python",
   "name": "python3"
  },
  "language_info": {
   "codemirror_mode": {
    "name": "ipython",
    "version": 3
   },
   "file_extension": ".py",
   "mimetype": "text/x-python",
   "name": "python",
   "nbconvert_exporter": "python",
   "pygments_lexer": "ipython3",
   "version": "3.11.5"
  }
 },
 "nbformat": 4,
 "nbformat_minor": 5
}
