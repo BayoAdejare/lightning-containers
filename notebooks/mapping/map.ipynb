{
 "cells": [
  {
   "cell_type": "markdown",
   "metadata": {},
   "source": [
    "# Dynamic Mapping GLM Data"
   ]
  },
  {
   "cell_type": "markdown",
   "metadata": {},
   "source": [
    "1. Map Tiles\n",
    "- OpenStreetMap\n",
    "- Mapbox Bright\n",
    "- Mapbox Control Room\n",
    "- Stamen Terrain\n",
    "- Stamen Toner\n",
    "- Stamen Watercolor\n",
    "- CartoDB positron\n",
    "- CartoDB dark_matter"
   ]
  },
  {
   "cell_type": "code",
   "execution_count": 63,
   "metadata": {},
   "outputs": [],
   "source": [
    "# Install libraries\n",
    "import folium\n",
    "import geopandas\n",
    "\n",
    "import pandas as pd\n",
    "\n",
    "from shapely.geometry import Point"
   ]
  },
  {
   "cell_type": "code",
   "execution_count": 77,
   "metadata": {},
   "outputs": [],
   "source": [
    "# Declare constants\n",
    "center = [27.94, -82.4586]\n",
    "zoom_start=10\n",
    "base_map = \"cartodbdark_matter\""
   ]
  },
  {
   "cell_type": "code",
   "execution_count": 78,
   "metadata": {},
   "outputs": [],
   "source": [
    "def init_map(center=center, zoom_start=zoom_start, tiles=base_map):\n",
    "    # Initializes base map\n",
    "    return folium.Map(location=center, zoom_start=zoom_start, tiles=tiles)\n",
    "\n",
    "# init_map()"
   ]
  },
  {
   "cell_type": "code",
   "execution_count": 79,
   "metadata": {},
   "outputs": [],
   "source": [
    "def create_point_map(df):\n",
    "    # cleaning\n",
    "    df[['Latitude', 'Longitude']] - df[['Latitude', 'Longitude']].apply(pd.to_numeric, errors='coerce')\n",
    "    # Convert pandas dataframe to geopandas dataframe\n",
    "    df['coordinates'] = df[['Latitude', 'Longitude']].values.tolist()\n",
    "    df['coordinates'] =df['coordinates'].apply(Point)\n",
    "    df = geopandas.GeoDataFrame(df, geometry='coordinates')\n",
    "    df = df.dropna(subset=['Latitude', 'Longitude', 'coordinates'])\n",
    "    return df\n",
    "\n",
    "def plot_from_df(df, folium_map):\n",
    "    df = create_point_map(df)\n",
    "    for i, row in df.iterrows():\n",
    "        icon = folium.features.CustomIcon(IM_CONSTANTS[row.Icon_ID], icon_size=(row.Icon_Size, row.Icon_Size))\n",
    "    folium.Marker([row.Latitude, row.Longitude], tooltip=f'{row.ID}', opacity=row.Opacity, icon=icon).add_to(folium_map)\n",
    "    return folium_map"
   ]
  },
  {
   "cell_type": "code",
   "execution_count": 80,
   "metadata": {},
   "outputs": [],
   "source": [
    "IM_CONSTANTS = {0: './assets/flash.png',\n",
    "                1: './assets/light.png',\n",
    "                2: './assets/lightning.png'}"
   ]
  },
  {
   "cell_type": "code",
   "execution_count": 81,
   "metadata": {},
   "outputs": [],
   "source": [
    "def load_df():\n",
    "    data = {\n",
    "        'ID': ['Beaver', 'B'],\n",
    "        'Icon_ID': [0, 1],\n",
    "        'Icon_Size': [50, 40],\n",
    "        'Opacity': [1, 0.5],\n",
    "        'Latitude': [27.77, 27.82],\n",
    "        'Longitude': [-82.39, -82.21]\n",
    "    }\n",
    "    df = pd.DataFrame(data)\n",
    "    return df"
   ]
  },
  {
   "cell_type": "code",
   "execution_count": 82,
   "metadata": {},
   "outputs": [
    {
     "data": {
      "text/html": [
       "<div>\n",
       "<style scoped>\n",
       "    .dataframe tbody tr th:only-of-type {\n",
       "        vertical-align: middle;\n",
       "    }\n",
       "\n",
       "    .dataframe tbody tr th {\n",
       "        vertical-align: top;\n",
       "    }\n",
       "\n",
       "    .dataframe thead th {\n",
       "        text-align: right;\n",
       "    }\n",
       "</style>\n",
       "<table border=\"1\" class=\"dataframe\">\n",
       "  <thead>\n",
       "    <tr style=\"text-align: right;\">\n",
       "      <th></th>\n",
       "      <th>ID</th>\n",
       "      <th>Icon_ID</th>\n",
       "      <th>Icon_Size</th>\n",
       "      <th>Opacity</th>\n",
       "      <th>Latitude</th>\n",
       "      <th>Longitude</th>\n",
       "    </tr>\n",
       "  </thead>\n",
       "  <tbody>\n",
       "    <tr>\n",
       "      <th>0</th>\n",
       "      <td>Raccoon</td>\n",
       "      <td>0</td>\n",
       "      <td>50</td>\n",
       "      <td>1.0</td>\n",
       "      <td>27.77</td>\n",
       "      <td>-82.39</td>\n",
       "    </tr>\n",
       "    <tr>\n",
       "      <th>1</th>\n",
       "      <td>A</td>\n",
       "      <td>1</td>\n",
       "      <td>40</td>\n",
       "      <td>0.5</td>\n",
       "      <td>27.82</td>\n",
       "      <td>-82.21</td>\n",
       "    </tr>\n",
       "  </tbody>\n",
       "</table>\n",
       "</div>"
      ],
      "text/plain": [
       "        ID  Icon_ID  Icon_Size  Opacity  Latitude  Longitude\n",
       "0  Raccoon        0         50      1.0     27.77     -82.39\n",
       "1        A        1         40      0.5     27.82     -82.21"
      ]
     },
     "execution_count": 82,
     "metadata": {},
     "output_type": "execute_result"
    }
   ],
   "source": [
    "df = load_df()\n",
    "df"
   ]
  },
  {
   "cell_type": "markdown",
   "metadata": {},
   "source": [
    "## Display Lightning Map"
   ]
  },
  {
   "cell_type": "code",
   "execution_count": 85,
   "metadata": {},
   "outputs": [
    {
     "data": {
      "text/html": [
       "<div style=\"width:100%;\"><div style=\"position:relative;width:100%;height:0;padding-bottom:60%;\"><span style=\"color:#565656\">Make this Notebook Trusted to load map: File -> Trust Notebook</span><iframe srcdoc=\"&lt;!DOCTYPE html&gt;\n",
       "&lt;html&gt;\n",
       "&lt;head&gt;\n",
       "    \n",
       "    &lt;meta http-equiv=&quot;content-type&quot; content=&quot;text/html; charset=UTF-8&quot; /&gt;\n",
       "    \n",
       "        &lt;script&gt;\n",
       "            L_NO_TOUCH = false;\n",
       "            L_DISABLE_3D = false;\n",
       "        &lt;/script&gt;\n",
       "    \n",
       "    &lt;style&gt;html, body {width: 100%;height: 100%;margin: 0;padding: 0;}&lt;/style&gt;\n",
       "    &lt;style&gt;#map {position:absolute;top:0;bottom:0;right:0;left:0;}&lt;/style&gt;\n",
       "    &lt;script src=&quot;https://cdn.jsdelivr.net/npm/leaflet@1.9.3/dist/leaflet.js&quot;&gt;&lt;/script&gt;\n",
       "    &lt;script src=&quot;https://code.jquery.com/jquery-3.7.1.min.js&quot;&gt;&lt;/script&gt;\n",
       "    &lt;script src=&quot;https://cdn.jsdelivr.net/npm/bootstrap@5.2.2/dist/js/bootstrap.bundle.min.js&quot;&gt;&lt;/script&gt;\n",
       "    &lt;script src=&quot;https://cdnjs.cloudflare.com/ajax/libs/Leaflet.awesome-markers/2.0.2/leaflet.awesome-markers.js&quot;&gt;&lt;/script&gt;\n",
       "    &lt;link rel=&quot;stylesheet&quot; href=&quot;https://cdn.jsdelivr.net/npm/leaflet@1.9.3/dist/leaflet.css&quot;/&gt;\n",
       "    &lt;link rel=&quot;stylesheet&quot; href=&quot;https://cdn.jsdelivr.net/npm/bootstrap@5.2.2/dist/css/bootstrap.min.css&quot;/&gt;\n",
       "    &lt;link rel=&quot;stylesheet&quot; href=&quot;https://netdna.bootstrapcdn.com/bootstrap/3.0.0/css/bootstrap.min.css&quot;/&gt;\n",
       "    &lt;link rel=&quot;stylesheet&quot; href=&quot;https://cdn.jsdelivr.net/npm/@fortawesome/fontawesome-free@6.2.0/css/all.min.css&quot;/&gt;\n",
       "    &lt;link rel=&quot;stylesheet&quot; href=&quot;https://cdnjs.cloudflare.com/ajax/libs/Leaflet.awesome-markers/2.0.2/leaflet.awesome-markers.css&quot;/&gt;\n",
       "    &lt;link rel=&quot;stylesheet&quot; href=&quot;https://cdn.jsdelivr.net/gh/python-visualization/folium/folium/templates/leaflet.awesome.rotate.min.css&quot;/&gt;\n",
       "    \n",
       "            &lt;meta name=&quot;viewport&quot; content=&quot;width=device-width,\n",
       "                initial-scale=1.0, maximum-scale=1.0, user-scalable=no&quot; /&gt;\n",
       "            &lt;style&gt;\n",
       "                #map_1ef6d20ccd9ff2fcb98e4ffc4c2c52fb {\n",
       "                    position: relative;\n",
       "                    width: 100.0%;\n",
       "                    height: 100.0%;\n",
       "                    left: 0.0%;\n",
       "                    top: 0.0%;\n",
       "                }\n",
       "                .leaflet-container { font-size: 1rem; }\n",
       "            &lt;/style&gt;\n",
       "        \n",
       "&lt;/head&gt;\n",
       "&lt;body&gt;\n",
       "    \n",
       "    \n",
       "            &lt;div class=&quot;folium-map&quot; id=&quot;map_1ef6d20ccd9ff2fcb98e4ffc4c2c52fb&quot; &gt;&lt;/div&gt;\n",
       "        \n",
       "&lt;/body&gt;\n",
       "&lt;script&gt;\n",
       "    \n",
       "    \n",
       "            var map_1ef6d20ccd9ff2fcb98e4ffc4c2c52fb = L.map(\n",
       "                &quot;map_1ef6d20ccd9ff2fcb98e4ffc4c2c52fb&quot;,\n",
       "                {\n",
       "                    center: [27.94, -82.4586],\n",
       "                    crs: L.CRS.EPSG3857,\n",
       "                    zoom: 10,\n",
       "                    zoomControl: true,\n",
       "                    preferCanvas: false,\n",
       "                }\n",
       "            );\n",
       "\n",
       "            \n",
       "\n",
       "        \n",
       "    \n",
       "            var tile_layer_3f7af2c0d43382321b0ef82c1db83f45 = L.tileLayer(\n",
       "                &quot;https://{s}.basemaps.cartocdn.com/dark_all/{z}/{x}/{y}{r}.png&quot;,\n",
       "                {&quot;attribution&quot;: &quot;\\u0026copy; \\u003ca href=\\&quot;https://www.openstreetmap.org/copyright\\&quot;\\u003eOpenStreetMap\\u003c/a\\u003e contributors \\u0026copy; \\u003ca href=\\&quot;https://carto.com/attributions\\&quot;\\u003eCARTO\\u003c/a\\u003e&quot;, &quot;detectRetina&quot;: false, &quot;maxNativeZoom&quot;: 20, &quot;maxZoom&quot;: 20, &quot;minZoom&quot;: 0, &quot;noWrap&quot;: false, &quot;opacity&quot;: 1, &quot;subdomains&quot;: &quot;abcd&quot;, &quot;tms&quot;: false}\n",
       "            );\n",
       "        \n",
       "    \n",
       "            tile_layer_3f7af2c0d43382321b0ef82c1db83f45.addTo(map_1ef6d20ccd9ff2fcb98e4ffc4c2c52fb);\n",
       "        \n",
       "    \n",
       "            var marker_32f85bd94d6d2808a65c700534499535 = L.marker(\n",
       "                [27.82, -82.21],\n",
       "                {&quot;opacity&quot;: 0.5}\n",
       "            ).addTo(map_1ef6d20ccd9ff2fcb98e4ffc4c2c52fb);\n",
       "        \n",
       "    \n",
       "        var custom_icon_ef457f8f7b17114cc47e972b549271e9 = L.icon({&quot;iconSize&quot;: [40, 40], &quot;iconUrl&quot;: &quot;data:image/png;base64,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&quot;});\n",
       "        marker_32f85bd94d6d2808a65c700534499535.setIcon(custom_icon_ef457f8f7b17114cc47e972b549271e9);\n",
       "        \n",
       "    \n",
       "            marker_32f85bd94d6d2808a65c700534499535.bindTooltip(\n",
       "                `&lt;div&gt;\n",
       "                     A\n",
       "                 &lt;/div&gt;`,\n",
       "                {&quot;sticky&quot;: true}\n",
       "            );\n",
       "        \n",
       "&lt;/script&gt;\n",
       "&lt;/html&gt;\" style=\"position:absolute;width:100%;height:100%;left:0;top:0;border:none !important;\" allowfullscreen webkitallowfullscreen mozallowfullscreen></iframe></div></div>"
      ],
      "text/plain": [
       "<folium.folium.Map at 0x207454eed80>"
      ]
     },
     "execution_count": 85,
     "metadata": {},
     "output_type": "execute_result"
    }
   ],
   "source": [
    "df = load_df()\n",
    "m = init_map()\n",
    "m = plot_from_df(df, m)\n",
    "m"
   ]
  },
  {
   "cell_type": "markdown",
   "metadata": {},
   "source": []
  }
 ],
 "metadata": {
  "kernelspec": {
   "display_name": "Python 3",
   "language": "python",
   "name": "python3"
  },
  "language_info": {
   "codemirror_mode": {
    "name": "ipython",
    "version": 3
   },
   "file_extension": ".py",
   "mimetype": "text/x-python",
   "name": "python",
   "nbconvert_exporter": "python",
   "pygments_lexer": "ipython3",
   "version": "3.12.1"
  }
 },
 "nbformat": 4,
 "nbformat_minor": 2
}
